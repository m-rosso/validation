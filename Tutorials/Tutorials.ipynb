{
 "cells": [
  {
   "cell_type": "markdown",
   "metadata": {},
   "source": [
    "## Validation procedures\n",
    "## Tutorials"
   ]
  },
  {
   "cell_type": "markdown",
   "metadata": {},
   "source": [
    "This projects conducted to the development of classes that have the goal of contributing with validation procedures during the implementation of data modeling in supervised learning tasks. This tutorial has the goal of showing its easy use and flexibility.\n",
    "<br>\n",
    "<br>\n",
    "Use cases for the classes presented here are as follows:\n",
    "* *KfoldsCV*, for perfoming grid/random search of a LightGBM model and a XGBoost model. Besides, pre-selection of features during each of the K-folds estimation for LightGBM is also presented.\n",
    "* *KfoldsCV_fit*, for performing grid/random search and fitting a SVM classifier using the entire training data and the best choices of hyper-parameters. Besides, the same for GBM classifier is applied together with parallelization for reducing overall running time.\n",
    "* *BootstrapEstimation*, for running a large collection of estimations in order to assess average and standard deviation of performance metrics, using a regularized logistic regression model."
   ]
  },
  {
   "cell_type": "markdown",
   "metadata": {},
   "source": [
    "Important to notice that all estimations have no intention of being as efficient as possibile, but focus on illustrating how those classes can be used in real-world applications.\n",
    "<br>\n",
    "<br>\n",
    "The complete collection of learning algorithms covered by KfoldsCV, Kfolds_fit, and BootstrapEstimation classes are presented below. Each method is followed by the library of reference and the hyper-parameters subject to grid or random search. Note that all hyper-parameters are named exactly how they are in their original libraries.\n",
    "1. Logistic regression (from [sklearn](https://scikit-learn.org/stable/modules/generated/sklearn.linear_model.LogisticRegression.html)).\n",
    "    * Hyper-parameters for tuning: regularization parameter ('C').\n",
    "<br>\n",
    "<br>\n",
    "2. Linear regression (Lasso) (from [sklearn](https://scikit-learn.org/stable/modules/generated/sklearn.linear_model.Lasso.html)).\n",
    "    * Hyper-parameters for tuning: regularization parameter ('C').\n",
    "<br>\n",
    "<br>\n",
    "3. GBM (from [sklearn](https://scikit-learn.org/stable/modules/generated/sklearn.ensemble.GradientBoostingClassifier.html)).\n",
    "    * Hyper-parameters for tuning: subsample ('subsample'), maximum depth ('max_depth'), learning rate ('learning_rate'), number of estimators ('n_estimators').\n",
    "<br>\n",
    "<br>\n",
    "4. GBM (from [LightGBM](https://lightgbm.readthedocs.io/en/latest/Parameters.html)).\n",
    "    * Hyper-parameters for tuning: subsample ('bagging_fraction'), maximum depth ('max_depth'), learning rate ('learning_rate), number of estimators ('num_iterations').\n",
    "<br>\n",
    "<br>\n",
    "5. GBM (from [XGBoost](https://xgboost.readthedocs.io/en/latest/parameter.html#xgboost-parameters)).\n",
    "    * Hyper-parameters for tuning: subsample ('subsample'), maximum depth ('max_depth'), learning rate ('eta'), number of estimators ('num_boost_round').\n",
    "<br>\n",
    "<br>\n",
    "6. Random forest (from [sklearn](https://scikit-learn.org/stable/modules/generated/sklearn.ensemble.RandomForestClassifier.html)).\n",
    "    * Hyper-parameters for tuning: number of estimators ('n_estimators'), maximum number of features ('max_features') and minimum\n",
    "    number of samples for split ('min_samples_split').\n",
    "<br>\n",
    "<br>\n",
    "7. SVM (from [sklearn](https://scikit-learn.org/stable/modules/generated/sklearn.svm.SVC.html)).\n",
    "    * Hyper-parameters for tuning: regularization parameter ('C') kernel ('kernel'), polynomial degree ('degree'), gamma ('gamma')."
   ]
  },
  {
   "cell_type": "markdown",
   "metadata": {},
   "source": [
    "--------"
   ]
  },
  {
   "cell_type": "markdown",
   "metadata": {},
   "source": [
    "This notebook imports the developed classes and uses a dataset for binary classification seeking to assess the functionalities of those classes by applying several distinct statistical learning methods."
   ]
  },
  {
   "cell_type": "markdown",
   "metadata": {},
   "source": [
    "**Summary:**\n",
    "1. [Libraries](#libraries)<a href='#libraries'></a>.\n",
    "2. [Functions and classes](#functions_classes)<a href='#functions_classes'></a>.\n",
    "3. [Settings](#settings)<a href='#settings'></a>.\n",
    "4. [Importing datasets](#imports)<a href='#imports'></a>.\n",
    "5. [Data pre-processing](#data_pre_proc)<a href='#data_pre_proc'></a>.\n",
    "6. [Assessing K-folds CV](#kfolds_assess)<a href='#kfolds_assess'></a>.\n",
    "    * [LightGBM](#kfolds_lightgbm)<a href='#kfolds_lightgbm'></a>.\n",
    "    * [XGBoost](#kfolds_xgboost)<a href='#kfolds_xgboost'></a>.\n",
    "<br>\n",
    "<br>\n",
    "7. [Assessing K-folds fit](#kfolds_fit_assess)<a href='#kfolds_fit_assess'></a>.\n",
    "    * [SVM classifier](#kfolds_fit_svm_class)<a href='#kfolds_fit_svm_class'></a>.\n",
    "    * [Parallel estimation (GBM)](#kfolds_fit_gbm_parallel)<a href='#kfolds_fit_gbm_parallel'></a>.\n",
    "<br>\n",
    "<br>\n",
    "8. [Assessing bootstrap estimation](#boot_assess)<a href='#boot_assess'></a>.\n",
    "    * [Logistic regression](#boot_lr)<a href='#boot_lr'></a>."
   ]
  },
  {
   "cell_type": "markdown",
   "metadata": {},
   "source": [
    "<a id='libraries'></a>"
   ]
  },
  {
   "cell_type": "markdown",
   "metadata": {},
   "source": [
    "## Libraries"
   ]
  },
  {
   "cell_type": "code",
   "execution_count": 1,
   "metadata": {},
   "outputs": [],
   "source": [
    "import pandas as pd\n",
    "import numpy as np\n",
    "import json\n",
    "import os\n",
    "\n",
    "from datetime import datetime\n",
    "import time\n",
    "import progressbar\n",
    "\n",
    "from scipy.stats import uniform, norm, randint"
   ]
  },
  {
   "cell_type": "markdown",
   "metadata": {},
   "source": [
    "<a id='functions_classes'></a>"
   ]
  },
  {
   "cell_type": "markdown",
   "metadata": {},
   "source": [
    "## Functions and classes"
   ]
  },
  {
   "cell_type": "code",
   "execution_count": 2,
   "metadata": {},
   "outputs": [],
   "source": [
    "import utils\n",
    "from utils import loading_data, running_time"
   ]
  },
  {
   "cell_type": "code",
   "execution_count": 3,
   "metadata": {},
   "outputs": [],
   "source": [
    "import kfolds\n",
    "from kfolds import KfoldsCV, Kfolds_fit\n",
    "\n",
    "import bootstrap\n",
    "from bootstrap import BootstrapEstimation"
   ]
  },
  {
   "cell_type": "markdown",
   "metadata": {},
   "source": [
    "<a id='settings'></a>"
   ]
  },
  {
   "cell_type": "markdown",
   "metadata": {},
   "source": [
    "## Settings"
   ]
  },
  {
   "cell_type": "code",
   "execution_count": 4,
   "metadata": {},
   "outputs": [],
   "source": [
    "# Define the dataset_id:\n",
    "dataset_id = 2706"
   ]
  },
  {
   "cell_type": "markdown",
   "metadata": {},
   "source": [
    "<a id='imports'></a>"
   ]
  },
  {
   "cell_type": "markdown",
   "metadata": {},
   "source": [
    "## Importing datasets"
   ]
  },
  {
   "cell_type": "markdown",
   "metadata": {},
   "source": [
    "<a id='feats_label'></a>"
   ]
  },
  {
   "cell_type": "markdown",
   "metadata": {},
   "source": [
    "### Features and label"
   ]
  },
  {
   "cell_type": "markdown",
   "metadata": {},
   "source": [
    "#### Training data"
   ]
  },
  {
   "cell_type": "code",
   "execution_count": 5,
   "metadata": {},
   "outputs": [
    {
     "name": "stdout",
     "output_type": "stream",
     "text": [
      "----------------------------------------\n",
      "\u001b[1mDataset 2706:\u001b[0m\n",
      "Shape of df: (7217, 1286).\n",
      "Number of distinct instances: 7217.\n",
      "Time period: from 2020-12-31 to 2021-02-17.\n",
      "----------------------------------------\n",
      "\n",
      "\n"
     ]
    }
   ],
   "source": [
    "print('----------------------------------------')\n",
    "print(f'\\033[1mDataset {dataset_id}:\\033[0m')\n",
    "\n",
    "df_train = loading_data(path=f'Datasets/dataset_{dataset_id}_train.csv',\n",
    "                        dtype={'order_id': str, 'store_id': int, 'epoch': str},\n",
    "                        id_var='order_id')\n",
    "\n",
    "print('----------------------------------------')\n",
    "print('\\n')\n",
    "\n",
    "# Accessory variables:\n",
    "drop_vars = ['y', 'order_id', 'epoch', 'date']"
   ]
  },
  {
   "cell_type": "markdown",
   "metadata": {},
   "source": [
    "#### Test data"
   ]
  },
  {
   "cell_type": "code",
   "execution_count": 6,
   "metadata": {},
   "outputs": [
    {
     "name": "stdout",
     "output_type": "stream",
     "text": [
      "----------------------------------------\n",
      "\u001b[1mDataset 2706:\u001b[0m\n",
      "Shape of df: (7217, 1286).\n",
      "Number of distinct instances: 7217.\n",
      "Time period: from 2021-02-17 to 2021-03-31.\n",
      "----------------------------------------\n",
      "\n",
      "\n"
     ]
    }
   ],
   "source": [
    "print('----------------------------------------')\n",
    "print(f'\\033[1mDataset {dataset_id}:\\033[0m')\n",
    "\n",
    "df_test = loading_data(path=f'Datasets/dataset_{dataset_id}_test.csv',\n",
    "                        dtype={'order_id': str, 'store_id': int, 'epoch': str},\n",
    "                        id_var='order_id')\n",
    "\n",
    "print('----------------------------------------')\n",
    "print('\\n')"
   ]
  },
  {
   "cell_type": "markdown",
   "metadata": {},
   "source": [
    "<a id='kfolds_assess'></a>"
   ]
  },
  {
   "cell_type": "markdown",
   "metadata": {},
   "source": [
    "## Assessing K-folds CV"
   ]
  },
  {
   "cell_type": "markdown",
   "metadata": {},
   "source": [
    "<a id='kfolds_lightgbm'></a>"
   ]
  },
  {
   "cell_type": "markdown",
   "metadata": {},
   "source": [
    "### LightGBM"
   ]
  },
  {
   "cell_type": "markdown",
   "metadata": {},
   "source": [
    "Click [here](https://lightgbm.readthedocs.io/en/latest/index.html) for documentation of LightGBM library."
   ]
  },
  {
   "cell_type": "code",
   "execution_count": 18,
   "metadata": {
    "scrolled": true
   },
   "outputs": [
    {
     "name": "stderr",
     "output_type": "stream",
     "text": [
      "\r",
      "\u001b[1mGrid estimation progress:\u001b[0m [                                              ] N/A%"
     ]
    },
    {
     "name": "stdout",
     "output_type": "stream",
     "text": [
      "[LightGBM] [Warning] Accuracy may be bad since you didn't set num_leaves and 2^max_depth > num_leaves\n"
     ]
    },
    {
     "name": "stderr",
     "output_type": "stream",
     "text": [
      "/home/matheus_rosso/anaconda3/lib/python3.7/site-packages/lightgbm/engine.py:151: UserWarning: Found `num_iterations` in params. Will use it instead of argument\n",
      "  warnings.warn(\"Found `{}` in params. Will use it instead of argument\".format(alias))\n",
      "/home/matheus_rosso/anaconda3/lib/python3.7/site-packages/lightgbm/engine.py:151: UserWarning: Found `num_iterations` in params. Will use it instead of argument\n",
      "  warnings.warn(\"Found `{}` in params. Will use it instead of argument\".format(alias))\n"
     ]
    },
    {
     "name": "stdout",
     "output_type": "stream",
     "text": [
      "[LightGBM] [Warning] Accuracy may be bad since you didn't set num_leaves and 2^max_depth > num_leaves\n"
     ]
    },
    {
     "name": "stderr",
     "output_type": "stream",
     "text": [
      "/home/matheus_rosso/anaconda3/lib/python3.7/site-packages/lightgbm/engine.py:151: UserWarning: Found `num_iterations` in params. Will use it instead of argument\n",
      "  warnings.warn(\"Found `{}` in params. Will use it instead of argument\".format(alias))\n"
     ]
    },
    {
     "name": "stdout",
     "output_type": "stream",
     "text": [
      "[LightGBM] [Warning] Accuracy may be bad since you didn't set num_leaves and 2^max_depth > num_leaves\n"
     ]
    },
    {
     "name": "stderr",
     "output_type": "stream",
     "text": [
      "\u001b[1mGrid estimation progress:\u001b[0m [----                                          ]  10%/home/matheus_rosso/anaconda3/lib/python3.7/site-packages/lightgbm/engine.py:151: UserWarning: Found `num_iterations` in params. Will use it instead of argument\n",
      "  warnings.warn(\"Found `{}` in params. Will use it instead of argument\".format(alias))\n",
      "/home/matheus_rosso/anaconda3/lib/python3.7/site-packages/lightgbm/engine.py:151: UserWarning: Found `num_iterations` in params. Will use it instead of argument\n",
      "  warnings.warn(\"Found `{}` in params. Will use it instead of argument\".format(alias))\n",
      "/home/matheus_rosso/anaconda3/lib/python3.7/site-packages/lightgbm/engine.py:151: UserWarning: Found `num_iterations` in params. Will use it instead of argument\n",
      "  warnings.warn(\"Found `{}` in params. Will use it instead of argument\".format(alias))\n",
      "\u001b[1mGrid estimation progress:\u001b[0m [---------                                     ]  20%/home/matheus_rosso/anaconda3/lib/python3.7/site-packages/lightgbm/engine.py:151: UserWarning: Found `num_iterations` in params. Will use it instead of argument\n",
      "  warnings.warn(\"Found `{}` in params. Will use it instead of argument\".format(alias))\n"
     ]
    },
    {
     "name": "stdout",
     "output_type": "stream",
     "text": [
      "[LightGBM] [Warning] Accuracy may be bad since you didn't set num_leaves and 2^max_depth > num_leaves\n"
     ]
    },
    {
     "name": "stderr",
     "output_type": "stream",
     "text": [
      "/home/matheus_rosso/anaconda3/lib/python3.7/site-packages/lightgbm/engine.py:151: UserWarning: Found `num_iterations` in params. Will use it instead of argument\n",
      "  warnings.warn(\"Found `{}` in params. Will use it instead of argument\".format(alias))\n"
     ]
    },
    {
     "name": "stdout",
     "output_type": "stream",
     "text": [
      "[LightGBM] [Warning] Accuracy may be bad since you didn't set num_leaves and 2^max_depth > num_leaves\n"
     ]
    },
    {
     "name": "stderr",
     "output_type": "stream",
     "text": [
      "/home/matheus_rosso/anaconda3/lib/python3.7/site-packages/lightgbm/engine.py:151: UserWarning: Found `num_iterations` in params. Will use it instead of argument\n",
      "  warnings.warn(\"Found `{}` in params. Will use it instead of argument\".format(alias))\n"
     ]
    },
    {
     "name": "stdout",
     "output_type": "stream",
     "text": [
      "[LightGBM] [Warning] Accuracy may be bad since you didn't set num_leaves and 2^max_depth > num_leaves\n"
     ]
    },
    {
     "name": "stderr",
     "output_type": "stream",
     "text": [
      "\u001b[1mGrid estimation progress:\u001b[0m [-------------                                 ]  30%/home/matheus_rosso/anaconda3/lib/python3.7/site-packages/lightgbm/engine.py:151: UserWarning: Found `num_iterations` in params. Will use it instead of argument\n",
      "  warnings.warn(\"Found `{}` in params. Will use it instead of argument\".format(alias))\n",
      "/home/matheus_rosso/anaconda3/lib/python3.7/site-packages/lightgbm/engine.py:151: UserWarning: Found `num_iterations` in params. Will use it instead of argument\n",
      "  warnings.warn(\"Found `{}` in params. Will use it instead of argument\".format(alias))\n",
      "/home/matheus_rosso/anaconda3/lib/python3.7/site-packages/lightgbm/engine.py:151: UserWarning: Found `num_iterations` in params. Will use it instead of argument\n",
      "  warnings.warn(\"Found `{}` in params. Will use it instead of argument\".format(alias))\n",
      "\u001b[1mGrid estimation progress:\u001b[0m [------------------                            ]  40%/home/matheus_rosso/anaconda3/lib/python3.7/site-packages/lightgbm/engine.py:151: UserWarning: Found `num_iterations` in params. Will use it instead of argument\n",
      "  warnings.warn(\"Found `{}` in params. Will use it instead of argument\".format(alias))\n"
     ]
    },
    {
     "name": "stdout",
     "output_type": "stream",
     "text": [
      "[LightGBM] [Warning] Accuracy may be bad since you didn't set num_leaves and 2^max_depth > num_leaves\n"
     ]
    },
    {
     "name": "stderr",
     "output_type": "stream",
     "text": [
      "/home/matheus_rosso/anaconda3/lib/python3.7/site-packages/lightgbm/engine.py:151: UserWarning: Found `num_iterations` in params. Will use it instead of argument\n",
      "  warnings.warn(\"Found `{}` in params. Will use it instead of argument\".format(alias))\n"
     ]
    },
    {
     "name": "stdout",
     "output_type": "stream",
     "text": [
      "[LightGBM] [Warning] Accuracy may be bad since you didn't set num_leaves and 2^max_depth > num_leaves\n"
     ]
    },
    {
     "name": "stderr",
     "output_type": "stream",
     "text": [
      "/home/matheus_rosso/anaconda3/lib/python3.7/site-packages/lightgbm/engine.py:151: UserWarning: Found `num_iterations` in params. Will use it instead of argument\n",
      "  warnings.warn(\"Found `{}` in params. Will use it instead of argument\".format(alias))\n"
     ]
    },
    {
     "name": "stdout",
     "output_type": "stream",
     "text": [
      "[LightGBM] [Warning] Accuracy may be bad since you didn't set num_leaves and 2^max_depth > num_leaves\n"
     ]
    },
    {
     "name": "stderr",
     "output_type": "stream",
     "text": [
      "\u001b[1mGrid estimation progress:\u001b[0m [-----------------------                       ]  50%/home/matheus_rosso/anaconda3/lib/python3.7/site-packages/lightgbm/engine.py:151: UserWarning: Found `num_iterations` in params. Will use it instead of argument\n",
      "  warnings.warn(\"Found `{}` in params. Will use it instead of argument\".format(alias))\n"
     ]
    },
    {
     "name": "stdout",
     "output_type": "stream",
     "text": [
      "[LightGBM] [Warning] Accuracy may be bad since you didn't set num_leaves and 2^max_depth > num_leaves\n"
     ]
    },
    {
     "name": "stderr",
     "output_type": "stream",
     "text": [
      "/home/matheus_rosso/anaconda3/lib/python3.7/site-packages/lightgbm/engine.py:151: UserWarning: Found `num_iterations` in params. Will use it instead of argument\n",
      "  warnings.warn(\"Found `{}` in params. Will use it instead of argument\".format(alias))\n"
     ]
    },
    {
     "name": "stdout",
     "output_type": "stream",
     "text": [
      "[LightGBM] [Warning] Accuracy may be bad since you didn't set num_leaves and 2^max_depth > num_leaves\n"
     ]
    },
    {
     "name": "stderr",
     "output_type": "stream",
     "text": [
      "/home/matheus_rosso/anaconda3/lib/python3.7/site-packages/lightgbm/engine.py:151: UserWarning: Found `num_iterations` in params. Will use it instead of argument\n",
      "  warnings.warn(\"Found `{}` in params. Will use it instead of argument\".format(alias))\n"
     ]
    },
    {
     "name": "stdout",
     "output_type": "stream",
     "text": [
      "[LightGBM] [Warning] Accuracy may be bad since you didn't set num_leaves and 2^max_depth > num_leaves\n"
     ]
    },
    {
     "name": "stderr",
     "output_type": "stream",
     "text": [
      "\u001b[1mGrid estimation progress:\u001b[0m [---------------------------                   ]  60%/home/matheus_rosso/anaconda3/lib/python3.7/site-packages/lightgbm/engine.py:151: UserWarning: Found `num_iterations` in params. Will use it instead of argument\n",
      "  warnings.warn(\"Found `{}` in params. Will use it instead of argument\".format(alias))\n"
     ]
    },
    {
     "name": "stdout",
     "output_type": "stream",
     "text": [
      "[LightGBM] [Warning] Accuracy may be bad since you didn't set num_leaves and 2^max_depth > num_leaves\n"
     ]
    },
    {
     "name": "stderr",
     "output_type": "stream",
     "text": [
      "/home/matheus_rosso/anaconda3/lib/python3.7/site-packages/lightgbm/engine.py:151: UserWarning: Found `num_iterations` in params. Will use it instead of argument\n",
      "  warnings.warn(\"Found `{}` in params. Will use it instead of argument\".format(alias))\n"
     ]
    },
    {
     "name": "stdout",
     "output_type": "stream",
     "text": [
      "[LightGBM] [Warning] Accuracy may be bad since you didn't set num_leaves and 2^max_depth > num_leaves\n"
     ]
    },
    {
     "name": "stderr",
     "output_type": "stream",
     "text": [
      "/home/matheus_rosso/anaconda3/lib/python3.7/site-packages/lightgbm/engine.py:151: UserWarning: Found `num_iterations` in params. Will use it instead of argument\n",
      "  warnings.warn(\"Found `{}` in params. Will use it instead of argument\".format(alias))\n"
     ]
    },
    {
     "name": "stdout",
     "output_type": "stream",
     "text": [
      "[LightGBM] [Warning] Accuracy may be bad since you didn't set num_leaves and 2^max_depth > num_leaves\n"
     ]
    },
    {
     "name": "stderr",
     "output_type": "stream",
     "text": [
      "\u001b[1mGrid estimation progress:\u001b[0m [--------------------------------              ]  70%/home/matheus_rosso/anaconda3/lib/python3.7/site-packages/lightgbm/engine.py:151: UserWarning: Found `num_iterations` in params. Will use it instead of argument\n",
      "  warnings.warn(\"Found `{}` in params. Will use it instead of argument\".format(alias))\n"
     ]
    },
    {
     "name": "stdout",
     "output_type": "stream",
     "text": [
      "[LightGBM] [Warning] Accuracy may be bad since you didn't set num_leaves and 2^max_depth > num_leaves\n"
     ]
    },
    {
     "name": "stderr",
     "output_type": "stream",
     "text": [
      "/home/matheus_rosso/anaconda3/lib/python3.7/site-packages/lightgbm/engine.py:151: UserWarning: Found `num_iterations` in params. Will use it instead of argument\n",
      "  warnings.warn(\"Found `{}` in params. Will use it instead of argument\".format(alias))\n"
     ]
    },
    {
     "name": "stdout",
     "output_type": "stream",
     "text": [
      "[LightGBM] [Warning] Accuracy may be bad since you didn't set num_leaves and 2^max_depth > num_leaves\n"
     ]
    },
    {
     "name": "stderr",
     "output_type": "stream",
     "text": [
      "/home/matheus_rosso/anaconda3/lib/python3.7/site-packages/lightgbm/engine.py:151: UserWarning: Found `num_iterations` in params. Will use it instead of argument\n",
      "  warnings.warn(\"Found `{}` in params. Will use it instead of argument\".format(alias))\n"
     ]
    },
    {
     "name": "stdout",
     "output_type": "stream",
     "text": [
      "[LightGBM] [Warning] Accuracy may be bad since you didn't set num_leaves and 2^max_depth > num_leaves\n"
     ]
    },
    {
     "name": "stderr",
     "output_type": "stream",
     "text": [
      "\u001b[1mGrid estimation progress:\u001b[0m [------------------------------------          ]  80%/home/matheus_rosso/anaconda3/lib/python3.7/site-packages/lightgbm/engine.py:151: UserWarning: Found `num_iterations` in params. Will use it instead of argument\n",
      "  warnings.warn(\"Found `{}` in params. Will use it instead of argument\".format(alias))\n",
      "/home/matheus_rosso/anaconda3/lib/python3.7/site-packages/lightgbm/engine.py:151: UserWarning: Found `num_iterations` in params. Will use it instead of argument\n",
      "  warnings.warn(\"Found `{}` in params. Will use it instead of argument\".format(alias))\n",
      "/home/matheus_rosso/anaconda3/lib/python3.7/site-packages/lightgbm/engine.py:151: UserWarning: Found `num_iterations` in params. Will use it instead of argument\n",
      "  warnings.warn(\"Found `{}` in params. Will use it instead of argument\".format(alias))\n",
      "\u001b[1mGrid estimation progress:\u001b[0m [-----------------------------------------     ]  90%/home/matheus_rosso/anaconda3/lib/python3.7/site-packages/lightgbm/engine.py:151: UserWarning: Found `num_iterations` in params. Will use it instead of argument\n",
      "  warnings.warn(\"Found `{}` in params. Will use it instead of argument\".format(alias))\n"
     ]
    },
    {
     "name": "stdout",
     "output_type": "stream",
     "text": [
      "[LightGBM] [Warning] Accuracy may be bad since you didn't set num_leaves and 2^max_depth > num_leaves\n"
     ]
    },
    {
     "name": "stderr",
     "output_type": "stream",
     "text": [
      "/home/matheus_rosso/anaconda3/lib/python3.7/site-packages/lightgbm/engine.py:151: UserWarning: Found `num_iterations` in params. Will use it instead of argument\n",
      "  warnings.warn(\"Found `{}` in params. Will use it instead of argument\".format(alias))\n"
     ]
    },
    {
     "name": "stdout",
     "output_type": "stream",
     "text": [
      "[LightGBM] [Warning] Accuracy may be bad since you didn't set num_leaves and 2^max_depth > num_leaves\n"
     ]
    },
    {
     "name": "stderr",
     "output_type": "stream",
     "text": [
      "/home/matheus_rosso/anaconda3/lib/python3.7/site-packages/lightgbm/engine.py:151: UserWarning: Found `num_iterations` in params. Will use it instead of argument\n",
      "  warnings.warn(\"Found `{}` in params. Will use it instead of argument\".format(alias))\n"
     ]
    },
    {
     "name": "stdout",
     "output_type": "stream",
     "text": [
      "[LightGBM] [Warning] Accuracy may be bad since you didn't set num_leaves and 2^max_depth > num_leaves\n"
     ]
    },
    {
     "name": "stderr",
     "output_type": "stream",
     "text": [
      "\r",
      "\u001b[1mGrid estimation progress:\u001b[0m [----------------------------------------------] 100%"
     ]
    },
    {
     "name": "stdout",
     "output_type": "stream",
     "text": [
      "---------------------------------------------------------------------\n",
      "\u001b[1mK-folds CV outcomes:\u001b[0m\n",
      "Number of data folds: 3.\n",
      "Number of samples for random search: 10.\n",
      "Estimation method: light gbm.\n",
      "Metric for choosing best hyper-parameter: roc_auc.\n",
      "Best hyper-parameters: {'bagging_fraction': 0.8564267514042088, 'learning_rate': 0.03307956006799815, 'max_depth': 5, 'num_iterations': 250}.\n",
      "CV performance metric associated with best hyper-parameters: 0.9818.\n",
      "---------------------------------------------------------------------\n",
      "\n",
      "\n",
      "------------------------------------\n",
      "\u001b[1mRunning time:\u001b[0m 1.07 minutes.\n",
      "Start time: 2021-05-18, 17:28:52\n",
      "End time: 2021-05-18, 17:29:56\n",
      "------------------------------------\n"
     ]
    }
   ],
   "source": [
    "# Grid of hyper-parameters:\n",
    "grid_param = {'bagging_fraction': uniform(0.5, 0.5),\n",
    "              'learning_rate': uniform(0.0001, 0.1),\n",
    "              'max_depth': randint(1, 10),\n",
    "              'num_iterations': [100, 250, 500]}\n",
    "\n",
    "# Creating K-folds CV object:\n",
    "kfolds = KfoldsCV(task = 'binary', method = 'light_gbm', num_folds = 3, metric = 'roc_auc',\n",
    "                  random_search = True, n_samples = 10,\n",
    "                  grid_param = grid_param,\n",
    "                  default_param = {'bagging_fraction': 0.75,\n",
    "                                   'learning_rate': 0.01,\n",
    "                                   'max_depth': 10,\n",
    "                                   'num_iterations': 500})\n",
    "\n",
    "# Running K-folds CV:\n",
    "kfolds.run(inputs = df_train.drop(drop_vars, axis=1), output = df_train['y'])\n",
    "\n",
    "# Defining best tuning hyper-parameter:\n",
    "best_param = kfolds.best_param"
   ]
  },
  {
   "cell_type": "code",
   "execution_count": 19,
   "metadata": {},
   "outputs": [
    {
     "data": {
      "text/plain": [
       "{'bagging_fraction': 0.8564267514042088,\n",
       " 'learning_rate': 0.03307956006799815,\n",
       " 'max_depth': 5,\n",
       " 'num_iterations': 250}"
      ]
     },
     "execution_count": 19,
     "metadata": {},
     "output_type": "execute_result"
    }
   ],
   "source": [
    "# Best tuning hyper-parameters:\n",
    "kfolds.best_param"
   ]
  },
  {
   "cell_type": "code",
   "execution_count": 20,
   "metadata": {},
   "outputs": [
    {
     "data": {
      "text/html": [
       "<style  type=\"text/css\" >\n",
       "    #T_cfb32c34_b817_11eb_98cd_4b74bcfac3e1row0_col0 {\n",
       "            width:  300px;\n",
       "        }    #T_cfb32c34_b817_11eb_98cd_4b74bcfac3e1row1_col0 {\n",
       "            width:  300px;\n",
       "        }    #T_cfb32c34_b817_11eb_98cd_4b74bcfac3e1row2_col0 {\n",
       "            width:  300px;\n",
       "        }    #T_cfb32c34_b817_11eb_98cd_4b74bcfac3e1row3_col0 {\n",
       "            width:  300px;\n",
       "        }    #T_cfb32c34_b817_11eb_98cd_4b74bcfac3e1row4_col0 {\n",
       "            width:  300px;\n",
       "        }    #T_cfb32c34_b817_11eb_98cd_4b74bcfac3e1row5_col0 {\n",
       "            width:  300px;\n",
       "        }    #T_cfb32c34_b817_11eb_98cd_4b74bcfac3e1row6_col0 {\n",
       "            width:  300px;\n",
       "        }    #T_cfb32c34_b817_11eb_98cd_4b74bcfac3e1row7_col0 {\n",
       "            width:  300px;\n",
       "        }    #T_cfb32c34_b817_11eb_98cd_4b74bcfac3e1row8_col0 {\n",
       "            width:  300px;\n",
       "        }    #T_cfb32c34_b817_11eb_98cd_4b74bcfac3e1row9_col0 {\n",
       "            width:  300px;\n",
       "        }</style><table id=\"T_cfb32c34_b817_11eb_98cd_4b74bcfac3e1\" ><thead>    <tr>        <th class=\"blank level0\" ></th>        <th class=\"col_heading level0 col0\" >tun_param</th>        <th class=\"col_heading level0 col1\" >cv_roc_auc</th>    </tr></thead><tbody>\n",
       "                <tr>\n",
       "                        <th id=\"T_cfb32c34_b817_11eb_98cd_4b74bcfac3e1level0_row0\" class=\"row_heading level0 row0\" >0</th>\n",
       "                        <td id=\"T_cfb32c34_b817_11eb_98cd_4b74bcfac3e1row0_col0\" class=\"data row0 col0\" >{'bagging_fraction': 0.8564267514042088, 'learning_rate': 0.03307956006799815, 'max_depth': 5, 'num_iterations': 250}</td>\n",
       "                        <td id=\"T_cfb32c34_b817_11eb_98cd_4b74bcfac3e1row0_col1\" class=\"data row0 col1\" >0.981832</td>\n",
       "            </tr>\n",
       "            <tr>\n",
       "                        <th id=\"T_cfb32c34_b817_11eb_98cd_4b74bcfac3e1level0_row1\" class=\"row_heading level0 row1\" >2</th>\n",
       "                        <td id=\"T_cfb32c34_b817_11eb_98cd_4b74bcfac3e1row1_col0\" class=\"data row1 col0\" >{'bagging_fraction': 0.6598188679693455, 'learning_rate': 0.06896039726050547, 'max_depth': 8, 'num_iterations': 500}</td>\n",
       "                        <td id=\"T_cfb32c34_b817_11eb_98cd_4b74bcfac3e1row1_col1\" class=\"data row1 col1\" >0.980826</td>\n",
       "            </tr>\n",
       "            <tr>\n",
       "                        <th id=\"T_cfb32c34_b817_11eb_98cd_4b74bcfac3e1level0_row2\" class=\"row_heading level0 row2\" >8</th>\n",
       "                        <td id=\"T_cfb32c34_b817_11eb_98cd_4b74bcfac3e1row2_col0\" class=\"data row2 col0\" >{'bagging_fraction': 0.8907666526719143, 'learning_rate': 0.06191495909029268, 'max_depth': 3, 'num_iterations': 100}</td>\n",
       "                        <td id=\"T_cfb32c34_b817_11eb_98cd_4b74bcfac3e1row2_col1\" class=\"data row2 col1\" >0.980798</td>\n",
       "            </tr>\n",
       "            <tr>\n",
       "                        <th id=\"T_cfb32c34_b817_11eb_98cd_4b74bcfac3e1level0_row3\" class=\"row_heading level0 row3\" >6</th>\n",
       "                        <td id=\"T_cfb32c34_b817_11eb_98cd_4b74bcfac3e1row3_col0\" class=\"data row3 col0\" >{'bagging_fraction': 0.9430910631497579, 'learning_rate': 0.04818394450453028, 'max_depth': 8, 'num_iterations': 500}</td>\n",
       "                        <td id=\"T_cfb32c34_b817_11eb_98cd_4b74bcfac3e1row3_col1\" class=\"data row3 col1\" >0.980569</td>\n",
       "            </tr>\n",
       "            <tr>\n",
       "                        <th id=\"T_cfb32c34_b817_11eb_98cd_4b74bcfac3e1level0_row4\" class=\"row_heading level0 row4\" >9</th>\n",
       "                        <td id=\"T_cfb32c34_b817_11eb_98cd_4b74bcfac3e1row4_col0\" class=\"data row4 col0\" >{'bagging_fraction': 0.9163785959047468, 'learning_rate': 0.09387259961233586, 'max_depth': 6, 'num_iterations': 500}</td>\n",
       "                        <td id=\"T_cfb32c34_b817_11eb_98cd_4b74bcfac3e1row4_col1\" class=\"data row4 col1\" >0.980061</td>\n",
       "            </tr>\n",
       "            <tr>\n",
       "                        <th id=\"T_cfb32c34_b817_11eb_98cd_4b74bcfac3e1level0_row5\" class=\"row_heading level0 row5\" >5</th>\n",
       "                        <td id=\"T_cfb32c34_b817_11eb_98cd_4b74bcfac3e1row5_col0\" class=\"data row5 col0\" >{'bagging_fraction': 0.7198296782892253, 'learning_rate': 0.03495206821405517, 'max_depth': 5, 'num_iterations': 100}</td>\n",
       "                        <td id=\"T_cfb32c34_b817_11eb_98cd_4b74bcfac3e1row5_col1\" class=\"data row5 col1\" >0.978563</td>\n",
       "            </tr>\n",
       "            <tr>\n",
       "                        <th id=\"T_cfb32c34_b817_11eb_98cd_4b74bcfac3e1level0_row6\" class=\"row_heading level0 row6\" >1</th>\n",
       "                        <td id=\"T_cfb32c34_b817_11eb_98cd_4b74bcfac3e1row6_col0\" class=\"data row6 col0\" >{'bagging_fraction': 0.6188968287608833, 'learning_rate': 0.05093991681484368, 'max_depth': 1, 'num_iterations': 500}</td>\n",
       "                        <td id=\"T_cfb32c34_b817_11eb_98cd_4b74bcfac3e1row6_col1\" class=\"data row6 col1\" >0.97797</td>\n",
       "            </tr>\n",
       "            <tr>\n",
       "                        <th id=\"T_cfb32c34_b817_11eb_98cd_4b74bcfac3e1level0_row7\" class=\"row_heading level0 row7\" >4</th>\n",
       "                        <td id=\"T_cfb32c34_b817_11eb_98cd_4b74bcfac3e1row7_col0\" class=\"data row7 col0\" >{'bagging_fraction': 0.9045568719088195, 'learning_rate': 0.02091435858274271, 'max_depth': 7, 'num_iterations': 100}</td>\n",
       "                        <td id=\"T_cfb32c34_b817_11eb_98cd_4b74bcfac3e1row7_col1\" class=\"data row7 col1\" >0.974292</td>\n",
       "            </tr>\n",
       "            <tr>\n",
       "                        <th id=\"T_cfb32c34_b817_11eb_98cd_4b74bcfac3e1level0_row8\" class=\"row_heading level0 row8\" >3</th>\n",
       "                        <td id=\"T_cfb32c34_b817_11eb_98cd_4b74bcfac3e1row8_col0\" class=\"data row8 col0\" >{'bagging_fraction': 0.536585497553552, 'learning_rate': 0.04616855762740995, 'max_depth': 1, 'num_iterations': 100}</td>\n",
       "                        <td id=\"T_cfb32c34_b817_11eb_98cd_4b74bcfac3e1row8_col1\" class=\"data row8 col1\" >0.970582</td>\n",
       "            </tr>\n",
       "            <tr>\n",
       "                        <th id=\"T_cfb32c34_b817_11eb_98cd_4b74bcfac3e1level0_row9\" class=\"row_heading level0 row9\" >7</th>\n",
       "                        <td id=\"T_cfb32c34_b817_11eb_98cd_4b74bcfac3e1row9_col0\" class=\"data row9 col0\" >{'bagging_fraction': 0.5267165018530952, 'learning_rate': 0.005129053997969813, 'max_depth': 8, 'num_iterations': 100}</td>\n",
       "                        <td id=\"T_cfb32c34_b817_11eb_98cd_4b74bcfac3e1row9_col1\" class=\"data row9 col1\" >0.958813</td>\n",
       "            </tr>\n",
       "    </tbody></table>"
      ],
      "text/plain": [
       "<pandas.io.formats.style.Styler at 0x7f0c6b063bd0>"
      ]
     },
     "execution_count": 20,
     "metadata": {},
     "output_type": "execute_result"
    }
   ],
   "source": [
    "# CV metrics:\n",
    "kfolds.CV_metric.sort_values('cv_roc_auc',\n",
    "                             ascending=False).style.set_properties(subset=['tun_param'], **{'width': '300px'})"
   ]
  },
  {
   "cell_type": "markdown",
   "metadata": {},
   "source": [
    "#### Pre-selecting features"
   ]
  },
  {
   "cell_type": "code",
   "execution_count": 7,
   "metadata": {
    "scrolled": true
   },
   "outputs": [
    {
     "name": "stderr",
     "output_type": "stream",
     "text": [
      "\u001b[1mGrid estimation progress:\u001b[0m [                                              ] N/A%/home/matheus_rosso/anaconda3/lib/python3.7/site-packages/lightgbm/engine.py:151: UserWarning: Found `num_iterations` in params. Will use it instead of argument\n",
      "  warnings.warn(\"Found `{}` in params. Will use it instead of argument\".format(alias))\n",
      "/home/matheus_rosso/anaconda3/lib/python3.7/site-packages/lightgbm/engine.py:151: UserWarning: Found `num_iterations` in params. Will use it instead of argument\n",
      "  warnings.warn(\"Found `{}` in params. Will use it instead of argument\".format(alias))\n",
      "/home/matheus_rosso/anaconda3/lib/python3.7/site-packages/lightgbm/engine.py:151: UserWarning: Found `num_iterations` in params. Will use it instead of argument\n",
      "  warnings.warn(\"Found `{}` in params. Will use it instead of argument\".format(alias))\n",
      "\u001b[1mGrid estimation progress:\u001b[0m [----                                          ]  10%/home/matheus_rosso/anaconda3/lib/python3.7/site-packages/lightgbm/engine.py:151: UserWarning: Found `num_iterations` in params. Will use it instead of argument\n",
      "  warnings.warn(\"Found `{}` in params. Will use it instead of argument\".format(alias))\n"
     ]
    },
    {
     "name": "stdout",
     "output_type": "stream",
     "text": [
      "[LightGBM] [Warning] Accuracy may be bad since you didn't set num_leaves and 2^max_depth > num_leaves\n"
     ]
    },
    {
     "name": "stderr",
     "output_type": "stream",
     "text": [
      "/home/matheus_rosso/anaconda3/lib/python3.7/site-packages/lightgbm/engine.py:151: UserWarning: Found `num_iterations` in params. Will use it instead of argument\n",
      "  warnings.warn(\"Found `{}` in params. Will use it instead of argument\".format(alias))\n"
     ]
    },
    {
     "name": "stdout",
     "output_type": "stream",
     "text": [
      "[LightGBM] [Warning] Accuracy may be bad since you didn't set num_leaves and 2^max_depth > num_leaves\n"
     ]
    },
    {
     "name": "stderr",
     "output_type": "stream",
     "text": [
      "/home/matheus_rosso/anaconda3/lib/python3.7/site-packages/lightgbm/engine.py:151: UserWarning: Found `num_iterations` in params. Will use it instead of argument\n",
      "  warnings.warn(\"Found `{}` in params. Will use it instead of argument\".format(alias))\n"
     ]
    },
    {
     "name": "stdout",
     "output_type": "stream",
     "text": [
      "[LightGBM] [Warning] Accuracy may be bad since you didn't set num_leaves and 2^max_depth > num_leaves\n"
     ]
    },
    {
     "name": "stderr",
     "output_type": "stream",
     "text": [
      "\u001b[1mGrid estimation progress:\u001b[0m [---------                                     ]  20%/home/matheus_rosso/anaconda3/lib/python3.7/site-packages/lightgbm/engine.py:151: UserWarning: Found `num_iterations` in params. Will use it instead of argument\n",
      "  warnings.warn(\"Found `{}` in params. Will use it instead of argument\".format(alias))\n",
      "/home/matheus_rosso/anaconda3/lib/python3.7/site-packages/lightgbm/engine.py:151: UserWarning: Found `num_iterations` in params. Will use it instead of argument\n",
      "  warnings.warn(\"Found `{}` in params. Will use it instead of argument\".format(alias))\n",
      "/home/matheus_rosso/anaconda3/lib/python3.7/site-packages/lightgbm/engine.py:151: UserWarning: Found `num_iterations` in params. Will use it instead of argument\n",
      "  warnings.warn(\"Found `{}` in params. Will use it instead of argument\".format(alias))\n",
      "\u001b[1mGrid estimation progress:\u001b[0m [-------------                                 ]  30%/home/matheus_rosso/anaconda3/lib/python3.7/site-packages/lightgbm/engine.py:151: UserWarning: Found `num_iterations` in params. Will use it instead of argument\n",
      "  warnings.warn(\"Found `{}` in params. Will use it instead of argument\".format(alias))\n",
      "/home/matheus_rosso/anaconda3/lib/python3.7/site-packages/lightgbm/engine.py:151: UserWarning: Found `num_iterations` in params. Will use it instead of argument\n",
      "  warnings.warn(\"Found `{}` in params. Will use it instead of argument\".format(alias))\n",
      "/home/matheus_rosso/anaconda3/lib/python3.7/site-packages/lightgbm/engine.py:151: UserWarning: Found `num_iterations` in params. Will use it instead of argument\n",
      "  warnings.warn(\"Found `{}` in params. Will use it instead of argument\".format(alias))\n",
      "\u001b[1mGrid estimation progress:\u001b[0m [------------------                            ]  40%/home/matheus_rosso/anaconda3/lib/python3.7/site-packages/lightgbm/engine.py:151: UserWarning: Found `num_iterations` in params. Will use it instead of argument\n",
      "  warnings.warn(\"Found `{}` in params. Will use it instead of argument\".format(alias))\n",
      "/home/matheus_rosso/anaconda3/lib/python3.7/site-packages/lightgbm/engine.py:151: UserWarning: Found `num_iterations` in params. Will use it instead of argument\n",
      "  warnings.warn(\"Found `{}` in params. Will use it instead of argument\".format(alias))\n",
      "/home/matheus_rosso/anaconda3/lib/python3.7/site-packages/lightgbm/engine.py:151: UserWarning: Found `num_iterations` in params. Will use it instead of argument\n",
      "  warnings.warn(\"Found `{}` in params. Will use it instead of argument\".format(alias))\n",
      "\u001b[1mGrid estimation progress:\u001b[0m [-----------------------                       ]  50%/home/matheus_rosso/anaconda3/lib/python3.7/site-packages/lightgbm/engine.py:151: UserWarning: Found `num_iterations` in params. Will use it instead of argument\n",
      "  warnings.warn(\"Found `{}` in params. Will use it instead of argument\".format(alias))\n",
      "/home/matheus_rosso/anaconda3/lib/python3.7/site-packages/lightgbm/engine.py:151: UserWarning: Found `num_iterations` in params. Will use it instead of argument\n",
      "  warnings.warn(\"Found `{}` in params. Will use it instead of argument\".format(alias))\n",
      "/home/matheus_rosso/anaconda3/lib/python3.7/site-packages/lightgbm/engine.py:151: UserWarning: Found `num_iterations` in params. Will use it instead of argument\n",
      "  warnings.warn(\"Found `{}` in params. Will use it instead of argument\".format(alias))\n",
      "\u001b[1mGrid estimation progress:\u001b[0m [---------------------------                   ]  60%/home/matheus_rosso/anaconda3/lib/python3.7/site-packages/lightgbm/engine.py:151: UserWarning: Found `num_iterations` in params. Will use it instead of argument\n",
      "  warnings.warn(\"Found `{}` in params. Will use it instead of argument\".format(alias))\n"
     ]
    },
    {
     "name": "stdout",
     "output_type": "stream",
     "text": [
      "[LightGBM] [Warning] Accuracy may be bad since you didn't set num_leaves and 2^max_depth > num_leaves\n"
     ]
    },
    {
     "name": "stderr",
     "output_type": "stream",
     "text": [
      "/home/matheus_rosso/anaconda3/lib/python3.7/site-packages/lightgbm/engine.py:151: UserWarning: Found `num_iterations` in params. Will use it instead of argument\n",
      "  warnings.warn(\"Found `{}` in params. Will use it instead of argument\".format(alias))\n"
     ]
    },
    {
     "name": "stdout",
     "output_type": "stream",
     "text": [
      "[LightGBM] [Warning] Accuracy may be bad since you didn't set num_leaves and 2^max_depth > num_leaves\n"
     ]
    },
    {
     "name": "stderr",
     "output_type": "stream",
     "text": [
      "/home/matheus_rosso/anaconda3/lib/python3.7/site-packages/lightgbm/engine.py:151: UserWarning: Found `num_iterations` in params. Will use it instead of argument\n",
      "  warnings.warn(\"Found `{}` in params. Will use it instead of argument\".format(alias))\n"
     ]
    },
    {
     "name": "stdout",
     "output_type": "stream",
     "text": [
      "[LightGBM] [Warning] Accuracy may be bad since you didn't set num_leaves and 2^max_depth > num_leaves\n"
     ]
    },
    {
     "name": "stderr",
     "output_type": "stream",
     "text": [
      "\u001b[1mGrid estimation progress:\u001b[0m [--------------------------------              ]  70%/home/matheus_rosso/anaconda3/lib/python3.7/site-packages/lightgbm/engine.py:151: UserWarning: Found `num_iterations` in params. Will use it instead of argument\n",
      "  warnings.warn(\"Found `{}` in params. Will use it instead of argument\".format(alias))\n"
     ]
    },
    {
     "name": "stdout",
     "output_type": "stream",
     "text": [
      "[LightGBM] [Warning] Accuracy may be bad since you didn't set num_leaves and 2^max_depth > num_leaves\n"
     ]
    },
    {
     "name": "stderr",
     "output_type": "stream",
     "text": [
      "/home/matheus_rosso/anaconda3/lib/python3.7/site-packages/lightgbm/engine.py:151: UserWarning: Found `num_iterations` in params. Will use it instead of argument\n",
      "  warnings.warn(\"Found `{}` in params. Will use it instead of argument\".format(alias))\n"
     ]
    },
    {
     "name": "stdout",
     "output_type": "stream",
     "text": [
      "[LightGBM] [Warning] Accuracy may be bad since you didn't set num_leaves and 2^max_depth > num_leaves\n"
     ]
    },
    {
     "name": "stderr",
     "output_type": "stream",
     "text": [
      "/home/matheus_rosso/anaconda3/lib/python3.7/site-packages/lightgbm/engine.py:151: UserWarning: Found `num_iterations` in params. Will use it instead of argument\n",
      "  warnings.warn(\"Found `{}` in params. Will use it instead of argument\".format(alias))\n"
     ]
    },
    {
     "name": "stdout",
     "output_type": "stream",
     "text": [
      "[LightGBM] [Warning] Accuracy may be bad since you didn't set num_leaves and 2^max_depth > num_leaves\n"
     ]
    },
    {
     "name": "stderr",
     "output_type": "stream",
     "text": [
      "\u001b[1mGrid estimation progress:\u001b[0m [------------------------------------          ]  80%/home/matheus_rosso/anaconda3/lib/python3.7/site-packages/lightgbm/engine.py:151: UserWarning: Found `num_iterations` in params. Will use it instead of argument\n",
      "  warnings.warn(\"Found `{}` in params. Will use it instead of argument\".format(alias))\n"
     ]
    },
    {
     "name": "stdout",
     "output_type": "stream",
     "text": [
      "[LightGBM] [Warning] Accuracy may be bad since you didn't set num_leaves and 2^max_depth > num_leaves\n"
     ]
    },
    {
     "name": "stderr",
     "output_type": "stream",
     "text": [
      "/home/matheus_rosso/anaconda3/lib/python3.7/site-packages/lightgbm/engine.py:151: UserWarning: Found `num_iterations` in params. Will use it instead of argument\n",
      "  warnings.warn(\"Found `{}` in params. Will use it instead of argument\".format(alias))\n"
     ]
    },
    {
     "name": "stdout",
     "output_type": "stream",
     "text": [
      "[LightGBM] [Warning] Accuracy may be bad since you didn't set num_leaves and 2^max_depth > num_leaves\n"
     ]
    },
    {
     "name": "stderr",
     "output_type": "stream",
     "text": [
      "/home/matheus_rosso/anaconda3/lib/python3.7/site-packages/lightgbm/engine.py:151: UserWarning: Found `num_iterations` in params. Will use it instead of argument\n",
      "  warnings.warn(\"Found `{}` in params. Will use it instead of argument\".format(alias))\n"
     ]
    },
    {
     "name": "stdout",
     "output_type": "stream",
     "text": [
      "[LightGBM] [Warning] Accuracy may be bad since you didn't set num_leaves and 2^max_depth > num_leaves\n"
     ]
    },
    {
     "name": "stderr",
     "output_type": "stream",
     "text": [
      "\u001b[1mGrid estimation progress:\u001b[0m [-----------------------------------------     ]  90%/home/matheus_rosso/anaconda3/lib/python3.7/site-packages/lightgbm/engine.py:151: UserWarning: Found `num_iterations` in params. Will use it instead of argument\n",
      "  warnings.warn(\"Found `{}` in params. Will use it instead of argument\".format(alias))\n",
      "/home/matheus_rosso/anaconda3/lib/python3.7/site-packages/lightgbm/engine.py:151: UserWarning: Found `num_iterations` in params. Will use it instead of argument\n",
      "  warnings.warn(\"Found `{}` in params. Will use it instead of argument\".format(alias))\n",
      "/home/matheus_rosso/anaconda3/lib/python3.7/site-packages/lightgbm/engine.py:151: UserWarning: Found `num_iterations` in params. Will use it instead of argument\n",
      "  warnings.warn(\"Found `{}` in params. Will use it instead of argument\".format(alias))\n",
      "\u001b[1mGrid estimation progress:\u001b[0m [----------------------------------------------] 100%"
     ]
    },
    {
     "name": "stdout",
     "output_type": "stream",
     "text": [
      "---------------------------------------------------------------------\n",
      "\u001b[1mK-folds CV outcomes:\u001b[0m\n",
      "Number of data folds: 3.\n",
      "Number of samples for random search: 10.\n",
      "Estimation method: light gbm.\n",
      "Metric for choosing best hyper-parameter: roc_auc.\n",
      "Best hyper-parameters: {'bagging_fraction': 0.9471752089265734, 'learning_rate': 0.034040275610410814, 'max_depth': 7, 'num_iterations': 250}.\n",
      "CV performance metric associated with best hyper-parameters: 0.9816.\n",
      "---------------------------------------------------------------------\n",
      "\n",
      "\n",
      "------------------------------------\n",
      "\u001b[1mRunning time:\u001b[0m 0.87 minutes.\n",
      "Start time: 2021-06-13, 18:03:52\n",
      "End time: 2021-06-13, 18:04:44\n",
      "------------------------------------\n"
     ]
    }
   ],
   "source": [
    "# Grid of hyper-parameters:\n",
    "grid_param = {'bagging_fraction': uniform(0.5, 0.5),\n",
    "              'learning_rate': uniform(0.0001, 0.1),\n",
    "              'max_depth': randint(1, 10),\n",
    "              'num_iterations': [100, 250, 500]}\n",
    "\n",
    "# Creating K-folds CV object:\n",
    "kfolds = KfoldsCV(task = 'binary', method = 'light_gbm', num_folds = 3, metric = 'roc_auc',\n",
    "                  random_search = True, n_samples = 10,\n",
    "                  grid_param = grid_param,\n",
    "                  default_param = {'bagging_fraction': 0.75,\n",
    "                                   'learning_rate': 0.01,\n",
    "                                   'max_depth': 10,\n",
    "                                   'num_iterations': 500},\n",
    "                  pre_selecting=True, pre_selecting_param=1)\n",
    "\n",
    "# Running K-folds CV:\n",
    "kfolds.run(inputs = df_train.drop(drop_vars, axis=1), output = df_train['y'])\n",
    "\n",
    "# Defining best tuning hyper-parameter:\n",
    "best_param = kfolds.best_param"
   ]
  },
  {
   "cell_type": "markdown",
   "metadata": {},
   "source": [
    "Selected features during each of the K-folds estimations"
   ]
  },
  {
   "cell_type": "code",
   "execution_count": 13,
   "metadata": {
    "scrolled": true
   },
   "outputs": [
    {
     "name": "stdout",
     "output_type": "stream",
     "text": [
      "\u001b[1m211 out of 1282 features were selected during the first estimation:\u001b[0m\n",
      "\n",
      "\n",
      "['feat_1', 'feat_4', 'feat_5', 'feat_9', 'feat_17', 'feat_55', 'feat_56', 'feat_60', 'feat_62', 'feat_77', 'feat_94', 'feat_111', 'feat_121', 'feat_124', 'feat_128', 'feat_130', 'feat_132', 'feat_133', 'feat_137', 'feat_139', 'feat_142', 'feat_146', 'feat_147', 'feat_149', 'feat_151', 'feat_160', 'feat_163', 'feat_165', 'feat_172', 'feat_174', 'feat_175', 'feat_176', 'feat_180', 'feat_181', 'feat_185', 'feat_191', 'feat_192', 'feat_196', 'feat_198', 'feat_201', 'feat_213', 'feat_215', 'feat_216', 'feat_217', 'feat_221', 'feat_222', 'feat_223', 'feat_227', 'feat_229', 'feat_230', 'feat_232', 'feat_239', 'feat_241', 'feat_242', 'feat_245', 'feat_253', 'feat_254', 'feat_257', 'feat_271', 'feat_278', 'feat_283', 'feat_284', 'feat_286', 'feat_289', 'feat_290', 'feat_294', 'feat_295', 'feat_311', 'feat_313', 'feat_314', 'feat_317', 'feat_319', 'feat_324', 'feat_328', 'feat_330', 'feat_331', 'feat_335', 'feat_337', 'feat_339', 'feat_341', 'feat_343', 'feat_346', 'feat_353', 'feat_360', 'feat_362', 'feat_365', 'feat_369', 'feat_376', 'feat_377', 'feat_378', 'feat_379', 'feat_380', 'feat_381', 'feat_400', 'feat_411', 'feat_443', 'feat_446', 'feat_448', 'feat_452', 'feat_453', 'feat_454', 'feat_456', 'feat_461', 'feat_478', 'feat_503', 'feat_508', 'feat_509', 'feat_510', 'feat_515', 'feat_517', 'feat_518', 'feat_520', 'feat_522', 'feat_523', 'feat_530', 'feat_538', 'feat_542', 'feat_548', 'feat_555', 'feat_560', 'feat_565', 'feat_567', 'feat_583', 'feat_584', 'feat_604', 'feat_630', 'feat_631', 'feat_644', 'feat_655', 'feat_656', 'feat_663', 'feat_665', 'feat_683', 'feat_689', 'feat_698', 'feat_709', 'feat_716', 'feat_718', 'feat_730', 'feat_731', 'feat_739', 'feat_740', 'feat_742', 'feat_744', 'feat_749', 'feat_784', 'feat_793', 'feat_794', 'feat_795', 'feat_796', 'feat_797', 'feat_798', 'feat_799', 'feat_803', 'feat_804', 'feat_805', 'feat_806', 'feat_807', 'feat_811', 'feat_813', 'feat_814', 'feat_815', 'feat_818', 'feat_819', 'feat_858', 'feat_862', 'feat_863', 'feat_868', 'feat_869', 'feat_872', 'feat_874', 'feat_879', 'feat_880', 'feat_884', 'feat_886', 'feat_887', 'feat_890', 'feat_893', 'feat_896', 'feat_898', 'feat_901', 'feat_902', 'feat_907', 'feat_912', 'feat_916', 'feat_921', 'feat_924', 'feat_925', 'feat_926', 'feat_927', 'feat_928', 'feat_933', 'feat_934', 'feat_946', 'feat_957', 'feat_965', 'feat_971', 'feat_972', 'feat_1118', 'feat_1121', 'feat_1122', 'feat_1125', 'feat_1126', 'feat_1191', 'feat_1204', 'feat_1207', 'feat_1209', 'feat_1213', 'feat_1214', 'feat_1222', 'feat_1223']\n"
     ]
    }
   ],
   "source": [
    "# Features selected while training with folds 2 and 3:\n",
    "selected_features = len(kfolds.CV_selected_feat[\"1\"])\n",
    "all_features = len(df_train.drop(drop_vars, axis=1).columns)\n",
    "\n",
    "print(f'\\033[1m{selected_features} out of {all_features} features were selected during the first estimation:\\033[0m')\n",
    "print('\\n')\n",
    "print(kfolds.CV_selected_feat['1'])"
   ]
  },
  {
   "cell_type": "markdown",
   "metadata": {},
   "source": [
    "<a id='kfolds_xgboost'></a>"
   ]
  },
  {
   "cell_type": "markdown",
   "metadata": {},
   "source": [
    "### XGBoost"
   ]
  },
  {
   "cell_type": "markdown",
   "metadata": {},
   "source": [
    "Click [here](https://xgboost.readthedocs.io/en/latest/index.html) for documentation of XGBoost library."
   ]
  },
  {
   "cell_type": "code",
   "execution_count": 18,
   "metadata": {},
   "outputs": [
    {
     "name": "stderr",
     "output_type": "stream",
     "text": [
      "\u001b[1mGrid estimation progress:\u001b[0m [----------------------------------------------] 100%"
     ]
    },
    {
     "name": "stdout",
     "output_type": "stream",
     "text": [
      "---------------------------------------------------------------------\n",
      "\u001b[1mK-folds CV outcomes:\u001b[0m\n",
      "Number of data folds: 3.\n",
      "Number of samples for random search: 10.\n",
      "Estimation method: xgboost.\n",
      "Metric for choosing best hyper-parameter: roc_auc.\n",
      "Best hyper-parameters: {'subsample': 0.5134567183342928, 'eta': 0.050805711983733466, 'max_depth': 5, 'num_boost_round': 100}.\n",
      "CV performance metric associated with best hyper-parameters: 0.9811.\n",
      "---------------------------------------------------------------------\n",
      "\n",
      "\n",
      "------------------------------------\n",
      "\u001b[1mRunning time:\u001b[0m 7.38 minutes.\n",
      "Start time: 2021-06-13, 10:16:04\n",
      "End time: 2021-06-13, 10:23:27\n",
      "------------------------------------\n"
     ]
    }
   ],
   "source": [
    "# Grid of hyper-parameters:\n",
    "grid_param = {'subsample': uniform(0.5, 0.5),\n",
    "              'eta': uniform(0.0001, 0.1),\n",
    "              'max_depth': randint(1, 10),\n",
    "              'num_boost_round': [100, 250, 500]}\n",
    "\n",
    "# Creating K-folds CV object:\n",
    "kfolds = KfoldsCV(task = 'binary:logistic', method = 'xgboost', num_folds = 3, metric = 'roc_auc',\n",
    "                  random_search = True, n_samples = 10,\n",
    "                  grid_param = grid_param,\n",
    "                  default_param = {'subsample': 0.75,\n",
    "                                   'eta': 0.01,\n",
    "                                   'max_depth': 10,\n",
    "                                   'num_boost_round': 100})\n",
    "\n",
    "# Running K-folds CV:\n",
    "kfolds.run(inputs = df_train.drop(drop_vars, axis=1), output = df_train['y'])"
   ]
  },
  {
   "cell_type": "code",
   "execution_count": 19,
   "metadata": {
    "scrolled": true
   },
   "outputs": [
    {
     "data": {
      "text/html": [
       "<style  type=\"text/css\" >\n",
       "    #T_aed828d8_cc4a_11eb_9ad4_3bbcca0bf003row0_col0 {\n",
       "            width:  300px;\n",
       "        }    #T_aed828d8_cc4a_11eb_9ad4_3bbcca0bf003row1_col0 {\n",
       "            width:  300px;\n",
       "        }    #T_aed828d8_cc4a_11eb_9ad4_3bbcca0bf003row2_col0 {\n",
       "            width:  300px;\n",
       "        }    #T_aed828d8_cc4a_11eb_9ad4_3bbcca0bf003row3_col0 {\n",
       "            width:  300px;\n",
       "        }    #T_aed828d8_cc4a_11eb_9ad4_3bbcca0bf003row4_col0 {\n",
       "            width:  300px;\n",
       "        }    #T_aed828d8_cc4a_11eb_9ad4_3bbcca0bf003row5_col0 {\n",
       "            width:  300px;\n",
       "        }    #T_aed828d8_cc4a_11eb_9ad4_3bbcca0bf003row6_col0 {\n",
       "            width:  300px;\n",
       "        }    #T_aed828d8_cc4a_11eb_9ad4_3bbcca0bf003row7_col0 {\n",
       "            width:  300px;\n",
       "        }    #T_aed828d8_cc4a_11eb_9ad4_3bbcca0bf003row8_col0 {\n",
       "            width:  300px;\n",
       "        }    #T_aed828d8_cc4a_11eb_9ad4_3bbcca0bf003row9_col0 {\n",
       "            width:  300px;\n",
       "        }</style><table id=\"T_aed828d8_cc4a_11eb_9ad4_3bbcca0bf003\" ><thead>    <tr>        <th class=\"blank level0\" ></th>        <th class=\"col_heading level0 col0\" >tun_param</th>        <th class=\"col_heading level0 col1\" >cv_roc_auc</th>    </tr></thead><tbody>\n",
       "                <tr>\n",
       "                        <th id=\"T_aed828d8_cc4a_11eb_9ad4_3bbcca0bf003level0_row0\" class=\"row_heading level0 row0\" >9</th>\n",
       "                        <td id=\"T_aed828d8_cc4a_11eb_9ad4_3bbcca0bf003row0_col0\" class=\"data row0 col0\" >{'subsample': 0.5134567183342928, 'eta': 0.050805711983733466, 'max_depth': 5, 'num_boost_round': 100}</td>\n",
       "                        <td id=\"T_aed828d8_cc4a_11eb_9ad4_3bbcca0bf003row0_col1\" class=\"data row0 col1\" >0.98109</td>\n",
       "            </tr>\n",
       "            <tr>\n",
       "                        <th id=\"T_aed828d8_cc4a_11eb_9ad4_3bbcca0bf003level0_row1\" class=\"row_heading level0 row1\" >7</th>\n",
       "                        <td id=\"T_aed828d8_cc4a_11eb_9ad4_3bbcca0bf003row1_col0\" class=\"data row1 col0\" >{'subsample': 0.6572591434661241, 'eta': 0.04621502203919024, 'max_depth': 7, 'num_boost_round': 500}</td>\n",
       "                        <td id=\"T_aed828d8_cc4a_11eb_9ad4_3bbcca0bf003row1_col1\" class=\"data row1 col1\" >0.980355</td>\n",
       "            </tr>\n",
       "            <tr>\n",
       "                        <th id=\"T_aed828d8_cc4a_11eb_9ad4_3bbcca0bf003level0_row2\" class=\"row_heading level0 row2\" >1</th>\n",
       "                        <td id=\"T_aed828d8_cc4a_11eb_9ad4_3bbcca0bf003row2_col0\" class=\"data row2 col0\" >{'subsample': 0.8617633312269194, 'eta': 0.03839326995841612, 'max_depth': 9, 'num_boost_round': 500}</td>\n",
       "                        <td id=\"T_aed828d8_cc4a_11eb_9ad4_3bbcca0bf003row2_col1\" class=\"data row2 col1\" >0.980002</td>\n",
       "            </tr>\n",
       "            <tr>\n",
       "                        <th id=\"T_aed828d8_cc4a_11eb_9ad4_3bbcca0bf003level0_row3\" class=\"row_heading level0 row3\" >2</th>\n",
       "                        <td id=\"T_aed828d8_cc4a_11eb_9ad4_3bbcca0bf003row3_col0\" class=\"data row3 col0\" >{'subsample': 0.639408116127177, 'eta': 0.0861505151585871, 'max_depth': 8, 'num_boost_round': 500}</td>\n",
       "                        <td id=\"T_aed828d8_cc4a_11eb_9ad4_3bbcca0bf003row3_col1\" class=\"data row3 col1\" >0.979651</td>\n",
       "            </tr>\n",
       "            <tr>\n",
       "                        <th id=\"T_aed828d8_cc4a_11eb_9ad4_3bbcca0bf003level0_row4\" class=\"row_heading level0 row4\" >0</th>\n",
       "                        <td id=\"T_aed828d8_cc4a_11eb_9ad4_3bbcca0bf003row4_col0\" class=\"data row4 col0\" >{'subsample': 0.9676272460997488, 'eta': 0.0371531329992009, 'max_depth': 3, 'num_boost_round': 500}</td>\n",
       "                        <td id=\"T_aed828d8_cc4a_11eb_9ad4_3bbcca0bf003row4_col1\" class=\"data row4 col1\" >0.979312</td>\n",
       "            </tr>\n",
       "            <tr>\n",
       "                        <th id=\"T_aed828d8_cc4a_11eb_9ad4_3bbcca0bf003level0_row5\" class=\"row_heading level0 row5\" >4</th>\n",
       "                        <td id=\"T_aed828d8_cc4a_11eb_9ad4_3bbcca0bf003row5_col0\" class=\"data row5 col0\" >{'subsample': 0.6145690448510704, 'eta': 0.04453770667478092, 'max_depth': 7, 'num_boost_round': 250}</td>\n",
       "                        <td id=\"T_aed828d8_cc4a_11eb_9ad4_3bbcca0bf003row5_col1\" class=\"data row5 col1\" >0.979152</td>\n",
       "            </tr>\n",
       "            <tr>\n",
       "                        <th id=\"T_aed828d8_cc4a_11eb_9ad4_3bbcca0bf003level0_row6\" class=\"row_heading level0 row6\" >3</th>\n",
       "                        <td id=\"T_aed828d8_cc4a_11eb_9ad4_3bbcca0bf003row6_col0\" class=\"data row6 col0\" >{'subsample': 0.6461978544484204, 'eta': 0.03607199484448666, 'max_depth': 1, 'num_boost_round': 500}</td>\n",
       "                        <td id=\"T_aed828d8_cc4a_11eb_9ad4_3bbcca0bf003row6_col1\" class=\"data row6 col1\" >0.977906</td>\n",
       "            </tr>\n",
       "            <tr>\n",
       "                        <th id=\"T_aed828d8_cc4a_11eb_9ad4_3bbcca0bf003level0_row7\" class=\"row_heading level0 row7\" >8</th>\n",
       "                        <td id=\"T_aed828d8_cc4a_11eb_9ad4_3bbcca0bf003row7_col0\" class=\"data row7 col0\" >{'subsample': 0.6389982286899557, 'eta': 0.09207214314802341, 'max_depth': 3, 'num_boost_round': 100}</td>\n",
       "                        <td id=\"T_aed828d8_cc4a_11eb_9ad4_3bbcca0bf003row7_col1\" class=\"data row7 col1\" >0.977694</td>\n",
       "            </tr>\n",
       "            <tr>\n",
       "                        <th id=\"T_aed828d8_cc4a_11eb_9ad4_3bbcca0bf003level0_row8\" class=\"row_heading level0 row8\" >6</th>\n",
       "                        <td id=\"T_aed828d8_cc4a_11eb_9ad4_3bbcca0bf003row8_col0\" class=\"data row8 col0\" >{'subsample': 0.8149282408714418, 'eta': 0.078324260950394, 'max_depth': 1, 'num_boost_round': 100}</td>\n",
       "                        <td id=\"T_aed828d8_cc4a_11eb_9ad4_3bbcca0bf003row8_col1\" class=\"data row8 col1\" >0.973234</td>\n",
       "            </tr>\n",
       "            <tr>\n",
       "                        <th id=\"T_aed828d8_cc4a_11eb_9ad4_3bbcca0bf003level0_row9\" class=\"row_heading level0 row9\" >5</th>\n",
       "                        <td id=\"T_aed828d8_cc4a_11eb_9ad4_3bbcca0bf003row9_col0\" class=\"data row9 col0\" >{'subsample': 0.9300521825173638, 'eta': 0.014009842509754455, 'max_depth': 7, 'num_boost_round': 100}</td>\n",
       "                        <td id=\"T_aed828d8_cc4a_11eb_9ad4_3bbcca0bf003row9_col1\" class=\"data row9 col1\" >0.954159</td>\n",
       "            </tr>\n",
       "    </tbody></table>"
      ],
      "text/plain": [
       "<pandas.io.formats.style.Styler at 0x7fa94fd2ea50>"
      ]
     },
     "execution_count": 19,
     "metadata": {},
     "output_type": "execute_result"
    }
   ],
   "source": [
    "# CV metrics:\n",
    "kfolds.CV_metric.sort_values('cv_roc_auc',\n",
    "                             ascending=False).style.set_properties(subset=['tun_param'], **{'width': '300px'})"
   ]
  },
  {
   "cell_type": "markdown",
   "metadata": {},
   "source": [
    "<a id='kfolds_fit_assess'></a>"
   ]
  },
  {
   "cell_type": "markdown",
   "metadata": {},
   "source": [
    "## Assessing K-folds fit"
   ]
  },
  {
   "cell_type": "markdown",
   "metadata": {},
   "source": [
    "<a id='kfolds_fit_svm_class'></a>"
   ]
  },
  {
   "cell_type": "markdown",
   "metadata": {},
   "source": [
    "### SVM classifier"
   ]
  },
  {
   "cell_type": "code",
   "execution_count": 21,
   "metadata": {
    "scrolled": true
   },
   "outputs": [
    {
     "name": "stderr",
     "output_type": "stream",
     "text": [
      "\u001b[1mGrid estimation progress:\u001b[0m [----------------------------------------------] 100%"
     ]
    },
    {
     "name": "stdout",
     "output_type": "stream",
     "text": [
      "---------------------------------------------------------------------\n",
      "\u001b[1mTrain-test estimation outcomes:\u001b[0m\n",
      "\n",
      "\n",
      "Outcomes from K-folds CV estimation:\n",
      "   Number of data folds: 3.\n",
      "   Estimation method: SVM.\n",
      "   Metric for choosing best hyper-parameter: roc_auc.\n",
      "   Best hyper-parameters: {'C': '1', 'kernel': 'poly', 'degree': '1', 'gamma': 'scale'}.\n",
      "   CV performance metric associated with best hyper-parameters: 0.9639.\n",
      "\n",
      "\n",
      "Performance metrics evaluated at test data:\n",
      "   test_roc_auc = 0.9833\n",
      "   test_prec_avg = 0.9237\n",
      "   test_brier = 0.009\n",
      "---------------------------------------------------------------------\n",
      "\n",
      "\n",
      "------------------------------------\n",
      "\u001b[1mRunning time:\u001b[0m 4.49 minutes.\n",
      "Start time: 2021-05-18, 17:29:57\n",
      "End time: 2021-05-18, 17:34:26\n",
      "------------------------------------\n"
     ]
    }
   ],
   "source": [
    "# Declare grid of hyper-parameters:\n",
    "params = {'C': [1],\n",
    "          'kernel': ['poly'],\n",
    "          'degree': [1, 2, 3, 4],\n",
    "          'gamma': ['scale']}\n",
    "params_default = {'C': 1.0, 'kernel': 'poly', 'degree': 1, 'gamma': 'scale'}\n",
    "\n",
    "# Declare K-folds CV estimation object:\n",
    "kfolds = Kfolds_fit(task='classification', method='SVM',\n",
    "                    metric='roc_auc', num_folds=3, pre_selecting=False, random_search=False,\n",
    "                    grid_param=params, default_param=params_default)\n",
    "\n",
    "# Running train-test estimation:\n",
    "kfolds.fit(train_inputs=df_train.drop(drop_vars, axis=1),\n",
    "           train_output=df_train['y'],\n",
    "           test_inputs=df_test.drop(drop_vars, axis=1),\n",
    "           test_output=df_test['y'])"
   ]
  },
  {
   "cell_type": "markdown",
   "metadata": {},
   "source": [
    "<a id='kfolds_fit_gbm_parallel'></a>"
   ]
  },
  {
   "cell_type": "markdown",
   "metadata": {},
   "source": [
    "### Parallel estimation (GBM)"
   ]
  },
  {
   "cell_type": "markdown",
   "metadata": {},
   "source": [
    "#### Sequential train-validation estimation"
   ]
  },
  {
   "cell_type": "code",
   "execution_count": 20,
   "metadata": {},
   "outputs": [
    {
     "name": "stderr",
     "output_type": "stream",
     "text": [
      "\u001b[1mGrid estimation progress:\u001b[0m [----------------------------------------------] 100%"
     ]
    },
    {
     "name": "stdout",
     "output_type": "stream",
     "text": [
      "---------------------------------------------------------------------\n",
      "\u001b[1mTrain-test estimation outcomes:\u001b[0m\n",
      "\n",
      "\n",
      "Outcomes from K-folds CV estimation:\n",
      "   Number of data folds: 3.\n",
      "   Estimation method: GBM.\n",
      "   Metric for choosing best hyper-parameter: roc_auc.\n",
      "   Best hyper-parameters: {'subsample': 0.75, 'learning_rate': 0.01, 'max_depth': 5.0, 'n_estimators': 500.0}.\n",
      "   CV performance metric associated with best hyper-parameters: 0.9592.\n",
      "\n",
      "\n",
      "Performance metrics evaluated at test data:\n",
      "   test_roc_auc = 0.9918\n",
      "   test_prec_avg = 0.9505\n",
      "   test_brier = 0.0044\n",
      "---------------------------------------------------------------------\n",
      "\n",
      "\n",
      "------------------------------------\n",
      "\u001b[1mRunning time:\u001b[0m 31.08 minutes.\n",
      "Start time: 2021-06-04, 21:12:51\n",
      "End time: 2021-06-04, 21:43:56\n",
      "------------------------------------\n"
     ]
    }
   ],
   "source": [
    "# Declare grid of hyper-parameters:\n",
    "params = {'subsample': 0.75,\n",
    "          'learning_rate': [0.0001, 0.001, 0.01],\n",
    "          'max_depth': [1, 3, 5],\n",
    "          'n_estimators': 500}\n",
    "params_default = {'subsample': 0.75,\n",
    "                  'learning_rate': 0.01,\n",
    "                  'max_depth': 10,\n",
    "                  'n_estimators': 500}\n",
    "\n",
    "# Declare K-folds CV estimation object:\n",
    "train_test_est = Kfolds_fit(task='classification', method='GBM',\n",
    "                            metric='roc_auc', num_folds=3, pre_selecting=False,\n",
    "                            random_search=False, grid_param=params, default_param=params_default,\n",
    "                            parallelize=False)\n",
    "\n",
    "# Running train-test estimation:\n",
    "train_test_est.fit(train_inputs=df_train.drop(drop_vars, axis=1),\n",
    "                   train_output=df_train['y'],\n",
    "                   test_inputs=df_test.drop(drop_vars, axis=1),\n",
    "                   test_output=df_test['y'])"
   ]
  },
  {
   "cell_type": "markdown",
   "metadata": {},
   "source": [
    "#### Parallel train-validation estimation"
   ]
  },
  {
   "cell_type": "code",
   "execution_count": 21,
   "metadata": {},
   "outputs": [
    {
     "name": "stderr",
     "output_type": "stream",
     "text": [
      "\u001b[1mGrid estimation progress:\u001b[0m [----------------------------------------------] 100%"
     ]
    },
    {
     "name": "stdout",
     "output_type": "stream",
     "text": [
      "---------------------------------------------------------------------\n",
      "\u001b[1mTrain-test estimation outcomes:\u001b[0m\n",
      "\n",
      "\n",
      "Outcomes from K-folds CV estimation:\n",
      "   Number of data folds: 3.\n",
      "   Estimation method: GBM.\n",
      "   Metric for choosing best hyper-parameter: roc_auc.\n",
      "   Best hyper-parameters: {'subsample': 0.75, 'learning_rate': 0.01, 'max_depth': 3.0, 'n_estimators': 500.0}.\n",
      "   CV performance metric associated with best hyper-parameters: 0.9592.\n",
      "\n",
      "\n",
      "Performance metrics evaluated at test data:\n",
      "   test_roc_auc = 0.9875\n",
      "   test_prec_avg = 0.9504\n",
      "   test_brier = 0.0043\n",
      "---------------------------------------------------------------------\n",
      "\n",
      "\n",
      "------------------------------------\n",
      "\u001b[1mRunning time:\u001b[0m 12.93 minutes.\n",
      "Start time: 2021-06-04, 21:43:56\n",
      "End time: 2021-06-04, 21:56:52\n",
      "------------------------------------\n"
     ]
    }
   ],
   "source": [
    "# Declare grid of hyper-parameters:\n",
    "params = {'subsample': 0.75,\n",
    "          'learning_rate': [0.0001, 0.001, 0.01],\n",
    "          'max_depth': [1, 3, 5],\n",
    "          'n_estimators': 500}\n",
    "params_default = {'subsample': 0.75,\n",
    "                  'learning_rate': 0.01,\n",
    "                  'max_depth': 10,\n",
    "                  'n_estimators': 500}\n",
    "\n",
    "# Declare K-folds CV estimation object:\n",
    "train_test_est = Kfolds_fit(task='classification', method='GBM',\n",
    "                            metric='roc_auc', num_folds=3, pre_selecting=False,\n",
    "                            random_search=False, grid_param=params, default_param=params_default,\n",
    "                            parallelize=True)\n",
    "\n",
    "# Running train-test estimation:\n",
    "train_test_est.fit(train_inputs=df_train.drop(drop_vars, axis=1),\n",
    "                   train_output=df_train['y'],\n",
    "                   test_inputs=df_test.drop(drop_vars, axis=1),\n",
    "                   test_output=df_test['y'])"
   ]
  },
  {
   "cell_type": "markdown",
   "metadata": {},
   "source": [
    "<a id='boot_assess'></a>"
   ]
  },
  {
   "cell_type": "markdown",
   "metadata": {},
   "source": [
    "## Assessing bootstrap estimation"
   ]
  },
  {
   "cell_type": "markdown",
   "metadata": {},
   "source": [
    "<a id='boot_lr'></a>"
   ]
  },
  {
   "cell_type": "markdown",
   "metadata": {},
   "source": [
    "### Logistic regression"
   ]
  },
  {
   "cell_type": "code",
   "execution_count": 22,
   "metadata": {},
   "outputs": [
    {
     "name": "stderr",
     "output_type": "stream",
     "text": [
      "\u001b[1mBoostrap estimation progress: \u001b[0m[==========================================] 100%"
     ]
    },
    {
     "name": "stdout",
     "output_type": "stream",
     "text": [
      "---------------------------------------------------------------------------------------------\n",
      "\u001b[1mBootstrap statistics:\u001b[0m\n",
      "   Number of estimations: 1000.\n",
      "   avg(roc_auc) = 0.984\n",
      "   std(roc_auc) = 0.0017\n",
      "   avg(prec_avg) = 0.9237\n",
      "   std(prec_avg) = 0.0048\n",
      "   avg(brier) = 0.0095\n",
      "   std(brier) = 0.0004\n",
      "\n",
      "\n",
      "\u001b[1m   Performance metrics based on bootstrap scores:\u001b[0m\n",
      "   roc_auc = 0.9863\n",
      "   prec_avg = 0.9333\n",
      "   brier = 0.0088\n",
      "   Hyper-parameters used in estimations: {'C': 0.1}.\n",
      "---------------------------------------------------------------------------------------------\n",
      "\n",
      "\n",
      "------------------------------------\n",
      "\u001b[1mRunning time:\u001b[0m 18.08 minutes.\n",
      "Start time: 2021-05-18, 17:34:27\n",
      "End time: 2021-05-18, 17:52:31\n",
      "------------------------------------\n"
     ]
    }
   ],
   "source": [
    "# Declare grid of hyper-parameters:\n",
    "params_default = {'C': 0.1}\n",
    "\n",
    "# Declare bootstrap estimation object:\n",
    "boot_estimations = BootstrapEstimation(task='classification', method='logistic_regression',\n",
    "                                        metric='roc_auc', num_folds=3, pre_selecting=False, random_search=False,\n",
    "                                        grid_param=params, default_param=params_default,\n",
    "                                        cv=False, replacement=True, n_iterations=1000, bootstrap_scores=True)\n",
    "\n",
    "# Running bootstrap estimation:\n",
    "boot_estimations.run(train_inputs=df_train.drop(drop_vars, axis=1),\n",
    "                     train_output=df_train['y'],\n",
    "                     test_inputs=df_test.drop(drop_vars, axis=1),\n",
    "                     test_output=df_test['y'])"
   ]
  },
  {
   "cell_type": "code",
   "execution_count": null,
   "metadata": {},
   "outputs": [],
   "source": []
  }
 ],
 "metadata": {
  "kernelspec": {
   "display_name": "Python 3",
   "language": "python",
   "name": "python3"
  },
  "language_info": {
   "codemirror_mode": {
    "name": "ipython",
    "version": 3
   },
   "file_extension": ".py",
   "mimetype": "text/x-python",
   "name": "python",
   "nbconvert_exporter": "python",
   "pygments_lexer": "ipython3",
   "version": "3.7.4"
  }
 },
 "nbformat": 4,
 "nbformat_minor": 2
}
